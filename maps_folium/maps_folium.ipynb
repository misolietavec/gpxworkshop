{
 "cells": [
  {
   "cell_type": "code",
   "execution_count": null,
   "id": "ae474b69-522a-4b74-a435-fdbc4b883c7a",
   "metadata": {},
   "outputs": [],
   "source": [
    "import panel as pn\n",
    "from mapfunctions import add_track, trackmap, plot_trackstats, plot_2tracks\n",
    "from exiffunctions import get_photos_geodata, photomarks\n",
    "pn.extension('plotly', 'ipywidgets')"
   ]
  },
  {
   "cell_type": "code",
   "execution_count": null,
   "id": "ceb974cf-c7c7-4074-b9ad-07a5bbe9a750",
   "metadata": {},
   "outputs": [],
   "source": [
    "trackfile = 'trasy/CutkovskaLubochna.gpx'\n",
    "m, lat, lon, elev, times, pdists, track1 = trackmap(trackfile, name='track', color='cyan', zoom=12, simplify=2)"
   ]
  },
  {
   "cell_type": "code",
   "execution_count": null,
   "id": "1376808d-7b46-4ece-a8cb-c8d7b824e3b4",
   "metadata": {},
   "outputs": [],
   "source": [
    "pdir = 'fotky/CutkovskaLubochna/'\n",
    "m =  photomarks(pdir, m)\n",
    "folium_pane = pn.pane.plot.Folium(m, height=620)"
   ]
  },
  {
   "cell_type": "code",
   "execution_count": null,
   "id": "eb863861-00d5-49f9-a8a6-dc02c07a578f",
   "metadata": {},
   "outputs": [],
   "source": [
    "tdata = (elev, times, pdists)\n",
    "figures = plot_trackstats(tdata)"
   ]
  },
  {
   "cell_type": "code",
   "execution_count": null,
   "id": "531b3f57-b596-491d-a738-fc5916c2ba09",
   "metadata": {},
   "outputs": [],
   "source": [
    "pn.Row(figures, folium_pane).servable()"
   ]
  }
 ],
 "metadata": {
  "kernelspec": {
   "display_name": "Python 3 (ipykernel)",
   "language": "python",
   "name": "python3"
  },
  "language_info": {
   "codemirror_mode": {
    "name": "ipython",
    "version": 3
   },
   "file_extension": ".py",
   "mimetype": "text/x-python",
   "name": "python",
   "nbconvert_exporter": "python",
   "pygments_lexer": "ipython3",
   "version": "3.11.7"
  }
 },
 "nbformat": 4,
 "nbformat_minor": 5
}
