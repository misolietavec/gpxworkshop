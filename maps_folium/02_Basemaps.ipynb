{
 "cells": [
  {
   "cell_type": "code",
   "execution_count": null,
   "id": "32be3b7e-7231-4198-84ef-05cc20341b61",
   "metadata": {},
   "outputs": [],
   "source": [
    "#import folium\n",
    "import xyzservices\n",
    "from folium import Map, TileLayer, LayerControl"
   ]
  },
  {
   "cell_type": "code",
   "execution_count": null,
   "id": "cddb86d4-5137-4081-b310-bb88c313a2c1",
   "metadata": {},
   "outputs": [],
   "source": [
    "# dlazdice, zoom, mapove servery\n",
    "m = Map(location=(49.05, 18.95), tiles=None, # neskor pridame basemaps\n",
    "        zoom_start=12, width=800, height=600, control_scale=True)"
   ]
  },
  {
   "cell_type": "code",
   "execution_count": null,
   "id": "58c8ef90-6ae8-4032-b977-afa3ee66f8e5",
   "metadata": {},
   "outputs": [],
   "source": [
    "# interaktivita\n",
    "m.add_child(TileLayer(tiles='Esri.WorldImagery', name='Esri Sat'))\n",
    "m.add_child(TileLayer(tiles='MtbMap', name='Mtb Map CZ'))\n",
    "m.add_child(TileLayer(tiles='OpenStreetMap.Mapnik', name='OpenStreet Map'))\n",
    "m.add_child(LayerControl())\n",
    "m"
   ]
  },
  {
   "cell_type": "code",
   "execution_count": null,
   "id": "78b493fa-1ec1-482d-8140-8d2fe3ac098c",
   "metadata": {},
   "outputs": [],
   "source": [
    "# ake mozu byt zakladne vrstvy - niektore potrebuju API kluc\n",
    "#xyzservices.providers"
   ]
  }
 ],
 "metadata": {
  "kernelspec": {
   "display_name": "Python 3 (ipykernel)",
   "language": "python",
   "name": "python3"
  },
  "language_info": {
   "codemirror_mode": {
    "name": "ipython",
    "version": 3
   },
   "file_extension": ".py",
   "mimetype": "text/x-python",
   "name": "python",
   "nbconvert_exporter": "python",
   "pygments_lexer": "ipython3",
   "version": "3.11.7"
  }
 },
 "nbformat": 4,
 "nbformat_minor": 5
}
