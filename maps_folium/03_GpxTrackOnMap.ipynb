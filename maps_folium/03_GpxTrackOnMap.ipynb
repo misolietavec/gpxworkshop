{
 "cells": [
  {
   "cell_type": "code",
   "execution_count": null,
   "id": "4e3deb92-6434-4c2f-844b-00c53f1b0d23",
   "metadata": {},
   "outputs": [],
   "source": [
    "# import ipyleaflet as ipl \n",
    "# pridavali by sme postupne, ako by sa chyby objavovali\n",
    "from folium import Map, TileLayer, LayerControl, PolyLine, FeatureGroup, Circle\n",
    "from folium.plugins import MarkerCluster\n",
    "import gpxpy"
   ]
  },
  {
   "cell_type": "code",
   "execution_count": null,
   "id": "d6ea45c1-063e-47ec-abe0-a1812fdf50cf",
   "metadata": {},
   "outputs": [],
   "source": [
    "# ukazat trasy/hradiste.gpx, chceme ho nacitat\n",
    "def read_gpx(gfile, meters=0):\n",
    "    gpx_file = open(gfile, 'r')\n",
    "    gpx = gpxpy.parse(gpx_file)  # vrati GPX objekt, nizsie ukazat, co vsetko obsahuje\n",
    "    gpx.simplify(meters)         # vidime efekt dole\n",
    "    lat, lon = [], []\n",
    "    # assume one track, one segment, data: lat, lon, elev\n",
    "    for track in gpx.tracks:\n",
    "        for segment in track.segments:\n",
    "            for point in segment.points:\n",
    "                lat.append(point.latitude)\n",
    "                lon.append(point.longitude)    \n",
    "    return (lat, lon)"
   ]
  },
  {
   "cell_type": "code",
   "execution_count": null,
   "id": "02112fc9-d6de-46f4-950f-41c299578e2e",
   "metadata": {},
   "outputs": [],
   "source": [
    "lat, lon = read_gpx('trasy/hradiste.gpx')\n",
    "len(lat)\n",
    "slat, slon = read_gpx('trasy/hradiste.gpx', meters=2)\n",
    "len(lat), len(slat)"
   ]
  },
  {
   "cell_type": "code",
   "execution_count": null,
   "id": "1b85e490-0d40-4e69-9470-97e2ce94f8c1",
   "metadata": {},
   "outputs": [],
   "source": [
    "# aby trasa bola 'vycentrovana'\n",
    "npts = len(slat)\n",
    "center = (sum(slat) / npts, sum(slon) / npts)\n",
    "# mapa\n",
    "m = Map(location=center, tiles=None, # neskor pridame basemaps\n",
    "        zoom_start=14, width=800, height=600, control_scale=True)\n",
    "esri_sat = TileLayer(tiles='Esri.WorldImagery', name='Esri Sat')\n",
    "mtb_map = TileLayer(tiles='MtbMap', name='Mtb Map CZ')\n",
    "osm_map = TileLayer(tiles='OpenStreetMap.Mapnik', name='OpenStreet Map')\n"
   ]
  },
  {
   "cell_type": "code",
   "execution_count": null,
   "id": "d05d40f1-80d1-4745-ba32-a5573ed497f9",
   "metadata": {},
   "outputs": [],
   "source": [
    "# Trasy\n",
    "loc = list(zip(lat, lon))\n",
    "sloc = list(zip(slat, slon))\n",
    "ori_track = PolyLine(locations=loc, weight=2, name='povodna', overlay=True)\n",
    "sim_track = PolyLine(locations=sloc, weight=2, color='cyan', overlay=True)\n",
    "# Body\n",
    "points = MarkerCluster(name='GPS body', maxClusterRadius=40)\n",
    "for location in sloc:\n",
    "    Circle(location=location, color='red', radius=2, fill=True).add_to(points)"
   ]
  },
  {
   "cell_type": "code",
   "execution_count": null,
   "id": "73a43b4e-1641-40d0-b4fe-1f3e04d479bc",
   "metadata": {},
   "outputs": [],
   "source": [
    "esri_sat.add_to(m)\n",
    "mtb_map.add_to(m)\n",
    "osm_map.add_to(m)\n",
    "trasa_pres = FeatureGroup(name='Trasa presne').add_to(m)\n",
    "trasa_pribl = FeatureGroup(name='Trasa približne').add_to(m)\n",
    "ori_track.add_to(trasa_pres)\n",
    "sim_track.add_to(trasa_pribl)\n",
    "points.add_to(m) \n",
    "m.add_child(LayerControl());"
   ]
  },
  {
   "cell_type": "code",
   "execution_count": null,
   "id": "87fe5b8e-c152-4f88-b3eb-33cca70c8514",
   "metadata": {},
   "outputs": [],
   "source": [
    "m"
   ]
  },
  {
   "cell_type": "markdown",
   "id": "44aa0c33-d7bd-4338-a0df-747fd3599030",
   "metadata": {},
   "source": [
    "__Našim cieľom je zobraziť len body, kde sme na trase fotili a po kliknutí na bod aj miniatúru fotky.__"
   ]
  }
 ],
 "metadata": {
  "kernelspec": {
   "display_name": "Python 3 (ipykernel)",
   "language": "python",
   "name": "python3"
  },
  "language_info": {
   "codemirror_mode": {
    "name": "ipython",
    "version": 3
   },
   "file_extension": ".py",
   "mimetype": "text/x-python",
   "name": "python",
   "nbconvert_exporter": "python",
   "pygments_lexer": "ipython3",
   "version": "3.11.2"
  }
 },
 "nbformat": 4,
 "nbformat_minor": 5
}
