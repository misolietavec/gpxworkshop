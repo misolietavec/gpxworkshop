{
 "cells": [
  {
   "cell_type": "code",
   "execution_count": null,
   "id": "4e3deb92-6434-4c2f-844b-00c53f1b0d23",
   "metadata": {},
   "outputs": [],
   "source": [
    "# import ipyleaflet as ipl \n",
    "# pridavali by sme postupne, ako by sa chyby objavovali\n",
    "from ipyleaflet import Map, basemaps, basemap_to_tiles, LayersControl, ScaleControl, CircleMarker, Polyline, MarkerCluster\n",
    "import gpxpy"
   ]
  },
  {
   "cell_type": "code",
   "execution_count": null,
   "id": "6057bf23-20d1-4ace-a46f-886a204532a7",
   "metadata": {},
   "outputs": [],
   "source": [
    "# zakladne vrstvy\n",
    "# -------- Esri satelitna --------\n",
    "esri_sat = basemap_to_tiles(basemaps.Esri.WorldImagery)\n",
    "esri_sat.name = 'Esri Sat'\n",
    "# -------------- OSM -------------\n",
    "mapnik = basemap_to_tiles(basemaps.OpenStreetMap.Mapnik)\n",
    "mapnik.name = 'OSM Mapnik'\n",
    "esri_sat.base = mapnik.base = True # dolezite\n",
    "# zakladna mapa\n",
    "m = Map(center=(49.05, 18.95), layers=[esri_sat, mapnik], zoom=13) # iny sposob, nie cez add_layer\n",
    "m.layout.height = '600px'\n",
    "lc =  LayersControl(position='topright')\n",
    "m.add(lc)  # poznamka o add_control, add_layer, menach premennych pre vrstvy\n",
    "sc = ScaleControl(imperial=False, position='bottomright')\n",
    "m.add(sc);   # preco bodkociarka"
   ]
  },
  {
   "cell_type": "code",
   "execution_count": null,
   "id": "d6ea45c1-063e-47ec-abe0-a1812fdf50cf",
   "metadata": {},
   "outputs": [],
   "source": [
    "# ukazat trasy/hradiste.gpx, chceme ho nacitat\n",
    "def read_gpx(gfile, meters=0):\n",
    "    gpx_file = open(gfile, 'r')\n",
    "    gpx = gpxpy.parse(gpx_file)  # vrati GPX objekt, nizsie ukazat, co vsetko obsahuje\n",
    "    gpx.simplify(meters)         # vidime efekt dole\n",
    "    lat, lon = [], []\n",
    "    # assume one track, one segment, data: lat, lon, elev\n",
    "    for track in gpx.tracks:\n",
    "        for segment in track.segments:\n",
    "            for point in segment.points:\n",
    "                lat.append(point.latitude)\n",
    "                lon.append(point.longitude)    \n",
    "    return (lat, lon)"
   ]
  },
  {
   "cell_type": "code",
   "execution_count": null,
   "id": "cbd5c58a-16c0-45d2-8b5a-2b763d6b534d",
   "metadata": {},
   "outputs": [],
   "source": [
    "# TAB pre doplnenie\n",
    "# gpxpy.gpx.GPX."
   ]
  },
  {
   "cell_type": "code",
   "execution_count": null,
   "id": "02112fc9-d6de-46f4-950f-41c299578e2e",
   "metadata": {},
   "outputs": [],
   "source": [
    "lat, lon = read_gpx('trasy/hradiste.gpx')\n",
    "len(lat)\n",
    "slat, slon = read_gpx('trasy/hradiste.gpx', meters=2)\n",
    "len(lat), len(slat)"
   ]
  },
  {
   "cell_type": "code",
   "execution_count": null,
   "id": "c3250c79-9fac-4a8f-a1a6-3711aa1a95e5",
   "metadata": {},
   "outputs": [],
   "source": [
    "# Polyline?\n",
    "loc = list(zip(lat, lon))\n",
    "sloc = list(zip(slat, slon))\n",
    "ori_track = Polyline(locations=loc, fill=False, weight=2, name='Pôvodná trasa')\n",
    "sim_track = Polyline(locations=sloc, fill=False, weight=2, color='cyan', name='Zjednoduš. trasa')\n",
    "m.add(ori_track)\n",
    "m.add(sim_track);"
   ]
  },
  {
   "cell_type": "code",
   "execution_count": null,
   "id": "87fe5b8e-c152-4f88-b3eb-33cca70c8514",
   "metadata": {},
   "outputs": [],
   "source": [
    "m"
   ]
  },
  {
   "cell_type": "code",
   "execution_count": null,
   "id": "c6312227-df25-49b7-beba-e92329144680",
   "metadata": {},
   "outputs": [],
   "source": [
    "# aby trasa bola 'vycentrovana'\n",
    "npts = len(slat)\n",
    "m.center = (sum(slat) / npts, sum(slon) / npts)"
   ]
  },
  {
   "cell_type": "code",
   "execution_count": null,
   "id": "7060f0e7-b198-4ff7-837e-45194cde99f1",
   "metadata": {},
   "outputs": [],
   "source": [
    "# Zobrazenie bodov trasy, frajerske\n",
    "points = []\n",
    "for la, lo in sloc:\n",
    "    point = CircleMarker(location=(la, lo), radius=3, color='red')\n",
    "    points.append(point)\n",
    "    # m.add_layer(point) # NEROBTE, pretazime stroj\n",
    "m.add(MarkerCluster(markers=points)); "
   ]
  },
  {
   "cell_type": "markdown",
   "id": "44aa0c33-d7bd-4338-a0df-747fd3599030",
   "metadata": {},
   "source": [
    "__Našim cieľom je zobraziť len body, kde sme na trase fotili a po kliknutí na bod aj miniatúru fotky.__"
   ]
  }
 ],
 "metadata": {
  "kernelspec": {
   "display_name": "Python 3 (ipykernel)",
   "language": "python",
   "name": "python3"
  },
  "language_info": {
   "codemirror_mode": {
    "name": "ipython",
    "version": 3
   },
   "file_extension": ".py",
   "mimetype": "text/x-python",
   "name": "python",
   "nbconvert_exporter": "python",
   "pygments_lexer": "ipython3",
   "version": "3.10.12"
  }
 },
 "nbformat": 4,
 "nbformat_minor": 5
}
