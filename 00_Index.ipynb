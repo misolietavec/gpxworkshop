{
 "cells": [
  {
   "cell_type": "markdown",
   "id": "fe788e5c-e222-461b-bdab-c6e8dc5dd77c",
   "metadata": {},
   "source": [
    "### Myšlienky o vzdelávaní:\n",
    "- študenti sú s rôznymi záujmami, podľa možnosti sa majú učiť na tom, čo ich baví viac a je blízke k realite\n",
    "- po základoch, šikovnejším možno dať voľnejší režim, známku získajú za \"obhajobu\" semestrálky\n",
    "- pri výbere semestrálok, softvérových nástrojov a ďalšej práci by mal pomáhať učiteľ,<br/> \n",
    "  alebo konzultant so širším prehľadom."
   ]
  },
  {
   "cell_type": "markdown",
   "id": "d49de9cb-7b75-490a-8f65-652fa8532530",
   "metadata": {},
   "source": [
    "### Toto je ukážka, ako by mohla vyzerať semestrálka pešieho turistu :-)"
   ]
  },
  {
   "cell_type": "markdown",
   "id": "f1dd18a7-366a-4648-bd68-b2fd112a8054",
   "metadata": {},
   "source": [
    "#### <a href='01_Jupyter_NB_zaklady.ipynb'>Základy práce v Jupyter(lab) notebookoch</a> pre tých, čo potrebujú - preskočíme, pozrite sami :)"
   ]
  },
  {
   "cell_type": "markdown",
   "id": "fec5461a-3ab7-47ef-913b-518422d2141d",
   "metadata": {
    "tags": []
   },
   "source": [
    "#### <a href='02_Basemaps.ipynb'>Mapa, základné vrstvy (base layers)</a>"
   ]
  },
  {
   "cell_type": "markdown",
   "id": "c1c34f52-95d0-40f3-a415-50bbe6c8f892",
   "metadata": {},
   "source": [
    "#### <a href='03_GpxTrackOnMap.ipynb'>Načítanie trasy (formát GPX), zobrazenie na mape</a>"
   ]
  },
  {
   "cell_type": "markdown",
   "id": "517cc2c3-86e4-439e-a417-203294e52ebe",
   "metadata": {},
   "source": [
    "#### <a href='04_PhotosOnMap.ipynb'>Trasa a zobrazenie zodpovedajúcich fotiek na mape</a>"
   ]
  },
  {
   "cell_type": "markdown",
   "id": "f954c9b4-caab-4435-b64e-5a5fcd295bfe",
   "metadata": {},
   "source": [
    "#### <a href='maps_ipyleaflet.ipynb'>Aj takto by mohla pokračovať semestrálka...</a>\n",
    "#### To už je \"webová alikácia\" s veľkými možnosťami ďalšieho vývoja."
   ]
  },
  {
   "cell_type": "markdown",
   "id": "3d6d5d82-8343-4466-a12f-4f10ffaf2433",
   "metadata": {},
   "source": [
    "#### <a href='05_Zaver.ipynb'>Záverečný pokec</a>"
   ]
  }
 ],
 "metadata": {
  "kernelspec": {
   "display_name": "Python 3 (ipykernel)",
   "language": "python",
   "name": "python3"
  },
  "language_info": {
   "codemirror_mode": {
    "name": "ipython",
    "version": 3
   },
   "file_extension": ".py",
   "mimetype": "text/x-python",
   "name": "python",
   "nbconvert_exporter": "python",
   "pygments_lexer": "ipython3",
   "version": "3.10.12"
  }
 },
 "nbformat": 4,
 "nbformat_minor": 5
}
