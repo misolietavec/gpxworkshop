{
 "cells": [
  {
   "cell_type": "code",
   "execution_count": null,
   "id": "32be3b7e-7231-4198-84ef-05cc20341b61",
   "metadata": {},
   "outputs": [],
   "source": [
    "import ipyleaflet as ipl\n",
    "# lepsie je importnut len to, co potrebujeme\n",
    "# from ipyleaflet import Map, basemaps, basemap_to_tiles, LayersControl"
   ]
  },
  {
   "cell_type": "code",
   "execution_count": null,
   "id": "cddb86d4-5137-4081-b310-bb88c313a2c1",
   "metadata": {},
   "outputs": [],
   "source": [
    "# dlazdice, zoom, mapove servery\n",
    "m = ipl.Map(center=(49.05, 18.95), zoom=12)"
   ]
  },
  {
   "cell_type": "code",
   "execution_count": null,
   "id": "58c8ef90-6ae8-4032-b977-afa3ee66f8e5",
   "metadata": {},
   "outputs": [],
   "source": [
    "# interaktivita\n",
    "m"
   ]
  },
  {
   "cell_type": "code",
   "execution_count": null,
   "id": "1b8a75b1-5f0d-458e-859b-e984feadb262",
   "metadata": {},
   "outputs": [],
   "source": [
    "# mapa je ipywidget, mozeme napr.\n",
    "m.layout.height = '600px'"
   ]
  },
  {
   "cell_type": "code",
   "execution_count": null,
   "id": "6e14a5fa-b6bf-4628-9cac-f1f86457cd74",
   "metadata": {},
   "outputs": [],
   "source": [
    "# Zakladne mapy, vrstvy (layers)\n",
    "# Vyber z viacero zakladnych map\n",
    "# ipl.basemaps  # xyzservices - standardizovanie poskytovatelov\n",
    "esri_sat = ipl.basemap_to_tiles(ipl.basemaps.Esri.WorldImagery)\n",
    "esri_sat.name = 'Esri Sat'\n",
    "m.add(esri_sat) #  layers alebo controls\n",
    "m.layers"
   ]
  },
  {
   "cell_type": "code",
   "execution_count": null,
   "id": "9daba52f-5ce9-4067-920d-6067f43ee504",
   "metadata": {},
   "outputs": [],
   "source": [
    "# ako vybrat zakladnu vstvu?\n",
    "lc =  ipl.LayersControl()\n",
    "m.add_control(lc) # position='topright'))\n",
    "# problem stvorcek a kruzok\n",
    "# m.remove_control(lc)"
   ]
  },
  {
   "cell_type": "code",
   "execution_count": null,
   "id": "4deacbd8-980d-4a35-ae72-842b6bd650db",
   "metadata": {},
   "outputs": [],
   "source": [
    "# to, co ma byt zakladnou vrstvou, musi mat atribut base = True\n",
    "esri_sat.base = True"
   ]
  },
  {
   "cell_type": "code",
   "execution_count": null,
   "id": "7bfdf8c9-dd29-4f31-9b26-c9fcaf66476a",
   "metadata": {},
   "outputs": [],
   "source": [
    "m.remove_layer(esri_sat)"
   ]
  },
  {
   "cell_type": "code",
   "execution_count": null,
   "id": "e5ad6f60-d818-4b25-b4f4-5166df24f61f",
   "metadata": {},
   "outputs": [],
   "source": [
    "m.add(esri_sat);  # rozdiel oproti predchadzajucemu\n",
    "# pokec o folium, tam to tak nejde"
   ]
  }
 ],
 "metadata": {
  "kernelspec": {
   "display_name": "Python 3 (ipykernel)",
   "language": "python",
   "name": "python3"
  },
  "language_info": {
   "codemirror_mode": {
    "name": "ipython",
    "version": 3
   },
   "file_extension": ".py",
   "mimetype": "text/x-python",
   "name": "python",
   "nbconvert_exporter": "python",
   "pygments_lexer": "ipython3",
   "version": "3.10.12"
  }
 },
 "nbformat": 4,
 "nbformat_minor": 5
}
