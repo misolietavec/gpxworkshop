{
 "cells": [
  {
   "cell_type": "markdown",
   "id": "dad7e632-f262-4ab2-9b7e-fcee35e3cbf4",
   "metadata": {},
   "source": [
    "#### Čo sme sa naučili? Veľa, inak by sa nám výsledok nepodaril. :-)\n",
    "- použili sme moduly `ipyleaflet, gpxpy, exif`, príp. aj `panel, plotly` pre vykreslenie profilov,<br/>\n",
    "  každý z nich nie je jednoduchý na skrotenie, vychytanie chýb vyžaduje čas, trpezlivosť i rozum\n",
    "- chyby, čo sme robili, sme zamlčali, no dali nám istú skúsenosť, aby sme mohli poradiť iným (napr. na `stackoverflow.com`)\n",
    "- webová aplikácia s prikreslenými profilmi je všeobecne dostupná na [http://feelmath.eu:5006](http://feelmath.eu:5006), podobne to môžu zverejňovať študenti\n",
    "- to, čo sme urobili sa dá ďalej rozvíjať, napr. prepojiť s webovou galériou, pridať rôzne štatistiky trasy, vyberať úseky trasy a zobrazovať štatistiky pre ne, atď."
   ]
  },
  {
   "cell_type": "markdown",
   "id": "089017ec-391d-4441-b3cd-288963fab278",
   "metadata": {},
   "source": [
    "### Odkazy na materiály z tohto workshopu:\n",
    "- všetko, čo sme tu robili je v repozitári na githube [https://github.com/misolietavec/gpxworkshop](https://github.com/misolietavec/gpxworkshop)\n",
    "- nie je tam adresár s fotkami, lebo je veľký (130 MB), fotky si môžete stiahnuť z [https://feelmath.eu/Download/ibfotky.zip](https://feelmath.eu/Download/ibfotky.zip)<br/>\n",
    "a rozbaliť v koreňovom adresári vyššieuvedeného adresára\n",
    "- pre tých, čo nemohli byť na worshope aj pre tých, čo tu boli a chcú si pripomenúť, čo sme robili, máme veľmi predbežné, zajakavé video (46 minút), stiahnuteľné z [https://feelmath.eu/Download/gpxworkshop.mp4](https://feelmath.eu/Download/gpxworkshop.mp4)<br/>\n",
    "postupne prerobíme na viac častí (asi 4, podľa notebookov 01 - 04) a bude tam podrobnejší pokec.<br/>\n",
    "Potom opublikujeme aj na youtube, pozrite [https://www.youtube.com/@micha_lietavec](https://www.youtube.com/@micha_lietavec)<br/>\n",
    "teraz sú tam videá z minuloročného PyCon SK."
   ]
  },
  {
   "cell_type": "markdown",
   "id": "f00deb46-8b69-4db3-85a3-4a5309a80efc",
   "metadata": {},
   "source": [
    "## <center>Diskusia</center>"
   ]
  },
  {
   "cell_type": "markdown",
   "id": "454cb5d5-fae0-4051-8336-0469e6bbc782",
   "metadata": {},
   "source": [
    "### Korektné ukončenie - urobte ako ja. \n",
    "V priebehu dvoch týždňov, pokiaľ uvidíme, že je nejaká aktivita na `hub.feelmath.eu` sa môžete prihlasovať tak, ako dnes. Môžu tam pribudnúť aj  materiály z piatkového workshopu Jakuba Dubca o spracovaní dát.\n",
    "\n",
    "Uvedomte si však, že to, čo tam zmeníte, sa nezachová, pokaľ si to nestiahnete na svoj lokálny stroj (File -> Save) a potom nenahráte znovu (ikonka `šípka dohora`). "
   ]
  }
 ],
 "metadata": {
  "kernelspec": {
   "display_name": "Python 3 (ipykernel)",
   "language": "python",
   "name": "python3"
  },
  "language_info": {
   "codemirror_mode": {
    "name": "ipython",
    "version": 3
   },
   "file_extension": ".py",
   "mimetype": "text/x-python",
   "name": "python",
   "nbconvert_exporter": "python",
   "pygments_lexer": "ipython3",
   "version": "3.11.2"
  }
 },
 "nbformat": 4,
 "nbformat_minor": 5
}
