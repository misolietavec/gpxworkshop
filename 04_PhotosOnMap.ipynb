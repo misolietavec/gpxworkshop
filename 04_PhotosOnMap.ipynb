{
 "cells": [
  {
   "cell_type": "markdown",
   "id": "474a437b-15e8-4cdc-9948-da116683a9fa",
   "metadata": {},
   "source": [
    "__Predpoklad__: okrem zápisu trasy v .gpx formáte (mobil, GPS-ko) máme aj fotky z trasy (z mobilu, z foťáku), v ktorých sú ako exif dáta:\n",
    "- __informácie o polohe__\n",
    "- ak z foťáku, treba informácie o časoch snímania fotiek (čas zosynchronizovaný s mobilom alebo GPS-kom),<br/>\n",
    "  gps info doplníme do fotiek pomocou skriptu <a href=\"scripts/add_geodata\">add_geodata</a>. Pozrime, vysvetlíme."
   ]
  },
  {
   "cell_type": "markdown",
   "id": "d4673022-3626-492f-9c10-aeebed5e0089",
   "metadata": {},
   "source": [
    "Ukážeme na túre [Z Čutkovskej doliny do Ľubochne](https://feelmath.eu/myphotoshare/) (galéria myphotoshare)"
   ]
  },
  {
   "cell_type": "code",
   "execution_count": null,
   "id": "9ca5cfe0-7c91-4d4a-a2cf-ffbc7f132ab0",
   "metadata": {},
   "outputs": [],
   "source": [
    "from mapfunctions import trackmap\n",
    "from exiffunctions import photomarks"
   ]
  },
  {
   "cell_type": "code",
   "execution_count": null,
   "id": "b567a1c7-b802-461d-b78b-bc761dfcd99a",
   "metadata": {},
   "outputs": [],
   "source": [
    "# Zapis trasy aj fotky z mobilu Xiaomi Mi 8, fotky maju info o polohe\n",
    "# Adresar s fotkami\n",
    "photodir = 'fotky/CutkovskaLubochna'\n",
    "# GPX subor\n",
    "gpxfile = 'trasy/CutkovskaLubochna.gpx'"
   ]
  },
  {
   "cell_type": "markdown",
   "id": "0c6e46a9-c7cf-4b45-b11a-48ee15c12402",
   "metadata": {},
   "source": [
    "#### Zobrazenie trasy na mape, ako obyčajne. Použijeme funkciu `trackmap` z <a href='mapfunctions.py'>mapfunctions.py</a>"
   ]
  },
  {
   "cell_type": "code",
   "execution_count": null,
   "id": "d7e1e59c-ca84-4802-937c-df5bb4240aa9",
   "metadata": {},
   "outputs": [],
   "source": [
    "result = trackmap(gpxfile, name='CutkovskaLubochna', zoom=12, color='green', simplify=2)\n",
    "m = result[0]      # mapa, ostatne nas nevzrusuje"
   ]
  },
  {
   "cell_type": "markdown",
   "id": "9aab7c0c-22bf-414a-ab3f-dd705f0c4f74",
   "metadata": {},
   "source": [
    "#### Na pridanie značiek (markers) s \"popups\" pre zmenšené fotky máme funkciu `photomarks` v súbore <a href='exiffunctions.py'>exiffunctions.py</a>. Samotné zmenšené fotky získame skriptom <a href='scripts/resize_photo'>`resize_photo`</a>. \n",
    "Lebo nedobre by bolo načitávať pôvodné fotky (každá má okolo 10 MB)."
   ]
  },
  {
   "cell_type": "code",
   "execution_count": null,
   "id": "0159081e-73e3-4c37-be71-0ceb961641c1",
   "metadata": {},
   "outputs": [],
   "source": [
    "pmarkers = photomarks(photodir)\n",
    "m.add(pmarkers)"
   ]
  }
 ],
 "metadata": {
  "kernelspec": {
   "display_name": "Python 3 (ipykernel)",
   "language": "python",
   "name": "python3"
  },
  "language_info": {
   "codemirror_mode": {
    "name": "ipython",
    "version": 3
   },
   "file_extension": ".py",
   "mimetype": "text/x-python",
   "name": "python",
   "nbconvert_exporter": "python",
   "pygments_lexer": "ipython3",
   "version": "3.10.12"
  }
 },
 "nbformat": 4,
 "nbformat_minor": 5
}
