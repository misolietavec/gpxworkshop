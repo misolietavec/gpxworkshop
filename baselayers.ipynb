{
 "cells": [
  {
   "cell_type": "code",
   "execution_count": null,
   "id": "84a3ef7f-783a-4ce2-b042-70a881c852a0",
   "metadata": {},
   "outputs": [],
   "source": [
    "from ipyleaflet import *\n",
    "\n",
    "mapnik = basemap_to_tiles(basemaps.OpenStreetMap.Mapnik)\n",
    "mapnik.base = True\n",
    "mapnik.name = 'Mapnik Layer'\n",
    "\n",
    "toner = basemap_to_tiles(basemaps.Stamen.Toner)\n",
    "toner.base = True\n",
    "toner.name = 'Toner Layer'\n",
    "\n",
    "bzh = basemap_to_tiles(basemaps.OpenStreetMap.BZH)\n",
    "bzh.base = True\n",
    "bzh.name = 'BZH layer'\n",
    "\n",
    "m = Map(center=(49, 19), zoom=8, layers=[mapnik, toner, bzh])\n",
    "\n",
    "m.add_control(LayersControl())\n",
    "\n",
    "m"
   ]
  }
 ],
 "metadata": {
  "kernelspec": {
   "display_name": "Python 3 (ipykernel)",
   "language": "python",
   "name": "python3"
  },
  "language_info": {
   "codemirror_mode": {
    "name": "ipython",
    "version": 3
   },
   "file_extension": ".py",
   "mimetype": "text/x-python",
   "name": "python",
   "nbconvert_exporter": "python",
   "pygments_lexer": "ipython3",
   "version": "3.10.12"
  }
 },
 "nbformat": 4,
 "nbformat_minor": 5
}
